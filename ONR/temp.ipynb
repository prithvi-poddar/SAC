{
 "cells": [
  {
   "cell_type": "code",
   "execution_count": 1,
   "metadata": {},
   "outputs": [],
   "source": [
    "import numpy as np\n"
   ]
  },
  {
   "cell_type": "code",
   "execution_count": 2,
   "metadata": {},
   "outputs": [
    {
     "data": {
      "text/plain": [
       "array([-0.25697209, -0.56506957,  0.84390634,  0.21724558,  0.54328956,\n",
       "       -0.49683564,  0.77299428, -0.22588412, -0.40406352, -0.89976666,\n",
       "        0.02562606,  0.75575362, -0.36609868,  0.12501063,  0.93832107,\n",
       "        0.24625981,  0.57724916,  0.24532134])"
      ]
     },
     "execution_count": 2,
     "metadata": {},
     "output_type": "execute_result"
    }
   ],
   "source": [
    "np.random.uniform(-1,1,18)"
   ]
  },
  {
   "cell_type": "code",
   "execution_count": 5,
   "metadata": {},
   "outputs": [],
   "source": [
    "def rescale(action, min_action, max_action):\n",
    "    action_new = np.zeros_like(action)\n",
    "    for i in range(action.shape[0]):\n",
    "        a = action[i]+1\n",
    "        ratio = a/2\n",
    "        new_a = ratio*(max_action[i]-min_action[i])\n",
    "        action_new[i] = min_action[i] + new_a\n",
    "    return action_new"
   ]
  },
  {
   "cell_type": "code",
   "execution_count": 6,
   "metadata": {},
   "outputs": [],
   "source": [
    "new_action = rescale(np.array([-1,0,1]), np.array([-2,-2,-2]), np.array([2,2,2]))"
   ]
  },
  {
   "cell_type": "code",
   "execution_count": 7,
   "metadata": {},
   "outputs": [
    {
     "data": {
      "text/plain": [
       "array([-2,  0,  2])"
      ]
     },
     "execution_count": 7,
     "metadata": {},
     "output_type": "execute_result"
    }
   ],
   "source": [
    "new_action"
   ]
  },
  {
   "cell_type": "code",
   "execution_count": 11,
   "metadata": {},
   "outputs": [
    {
     "data": {
      "text/plain": [
       "array([[-1, -1,  0],\n",
       "       [-1, -1,  0],\n",
       "       [-1, -1,  0],\n",
       "       [-1, -1,  0],\n",
       "       [-1, -1,  0],\n",
       "       [-1, -1,  0]])"
      ]
     },
     "execution_count": 11,
     "metadata": {},
     "output_type": "execute_result"
    }
   ],
   "source": [
    "np.array([[-1,-1,0]]).repeat(6, 0)"
   ]
  },
  {
   "cell_type": "code",
   "execution_count": 1,
   "metadata": {},
   "outputs": [],
   "source": [
    "import os\n",
    "import math\n",
    "from warnings import formatwarning\n",
    "import numpy as np\n",
    "import torch\n",
    "from torch._C import device\n",
    "import torch.nn as nn\n",
    "import torch.nn.functional as F\n",
    "from torch.nn.functional import softplus\n",
    "from torch.distributions import constraints\n",
    "import torch.optim as optim\n",
    "from torch.distributions import Normal, TransformedDistribution, Categorical\n",
    "from torch.distributions.transforms import Transform\n",
    "from Graph_Capsule_Convolution.Models.ONR.encoder import Task_Graph_Encoder, Context_Encoder\n",
    "from Graph_Capsule_Convolution.Models.ONR.decoder import MHA_Decoder\n",
    "from Graph_Capsule_Convolution.Networks.utils import normalize_edges"
   ]
  },
  {
   "cell_type": "code",
   "execution_count": 13,
   "metadata": {},
   "outputs": [],
   "source": [
    "class ActorNetwork(nn.Module):\n",
    "    def __init__(self, lr=0.9, \n",
    "                 node_feats=7,\n",
    "                 encoder_out_feats=64,\n",
    "                 edge_feats=2,\n",
    "                 encoder_hidden_dims=[32,32,32],\n",
    "                 k=2, p=3,\n",
    "                 gcn_model='Edge_Laplacian',\n",
    "                 context_in_feats=8,\n",
    "                 context_out_feats=64,\n",
    "                 context_hidden_dims=[32,32],\n",
    "                 decoder_heads=8,\n",
    "                 decoder_hidden_dims=[64,64],\n",
    "                 decoder_out_feats=50,\n",
    "                 coa_num=3,\n",
    "                 latent_dim=128,\n",
    "                 activation=nn.ReLU(),\n",
    "                 device=torch.device(\"cuda\" if torch.cuda.is_available() else \"cpu\")):\n",
    "        super(ActorNetwork, self).__init__()\n",
    "        self.lr = lr\n",
    "        self.task_encoder = Task_Graph_Encoder(in_feats=node_feats,\n",
    "                                               out_feats=encoder_out_feats,\n",
    "                                               edge_feat=edge_feats,\n",
    "                                               hidden_dims=encoder_hidden_dims,\n",
    "                                               k=k, p=p,\n",
    "                                               gcn_model=gcn_model,\n",
    "                                               activation=activation,\n",
    "                                               device=device)\n",
    "        \n",
    "        self.coa_keys = nn.ModuleList(nn.Linear(in_features=encoder_out_feats,\n",
    "                                                out_features=latent_dim) for i in range(coa_num))\n",
    "        self.coa_vals = nn.ModuleList(nn.Linear(in_features=encoder_out_feats,\n",
    "                                                out_features=latent_dim) for i in range(coa_num))\n",
    "        \n",
    "        self.context_encoder = Context_Encoder(in_feats=context_in_feats,\n",
    "                                               out_feats=context_out_feats,\n",
    "                                               hidden_dims=context_hidden_dims,\n",
    "                                               device=device)\n",
    "        self.decoder = MHA_Decoder(context_dim=context_out_feats,\n",
    "                                   key_dim=latent_dim,\n",
    "                                   value_dim=latent_dim,\n",
    "                                   num_heads=decoder_heads,\n",
    "                                   hidden_dim=decoder_hidden_dims,\n",
    "                                   out_feats=decoder_out_feats,\n",
    "                                   device=device)\n",
    "\n",
    "        self.optimizer = optim.Adam(self.parameters(), lr=lr)\n",
    "        self.device = device\n",
    "\n",
    "        self.to(self.device)\n",
    "\n",
    "    def forward(self, state):\n",
    "        tasks = torch.tensor(state['nodes'], dtype=torch.float32, device=self.device)\n",
    "        cost_adj = state['degree_mat']-state['cost_adjacency']\n",
    "        time_adj = state['degree_mat']-state['time_adjacency']\n",
    "        adj = normalize_edges(np.stack((cost_adj, time_adj), axis=2))\n",
    "        adj = torch.tensor(adj, dtype=torch.float32, device=self.device)\n",
    "        agents = torch.tensor(state['agent_feats'], dtype=torch.float32, device=self.device)\n",
    "        mask = torch.unsqueeze(torch.tensor(state['mask'], dtype=torch.float32, device=self.device), 0)\n",
    "        ag_idx = int(state['agent_index'])\n",
    "        coa_num = state['coa_num']\n",
    "        time = torch.unsqueeze(torch.tensor([state['time_elapsed']], dtype=torch.float32, device=self.device), 0)\n",
    "        agent = torch.unsqueeze(agents[ag_idx,:], 0)\n",
    "        peers = torch.cat((agents[:ag_idx,:],agents[ag_idx+1:,:]), dim=0)\n",
    "\n",
    "        encoder_x = self.task_encoder(X=tasks, L=adj)\n",
    "        context_x = self.context_encoder(agent=agent, peers=peers, time=time)\n",
    "        key = self.coa_keys[coa_num](encoder_x)\n",
    "        value = self.coa_vals[coa_num](encoder_x)\n",
    "        probs = self.decoder(context=context_x, key=key, value=value)\n",
    "        probs = probs*mask\n",
    "        # Softmax ignoring 0 values\n",
    "        x_max = torch.max(probs, dim=1, keepdim=True)[0][0]\n",
    "        x_exp = torch.exp(probs-x_max)\n",
    "        x_exp = x_exp * (probs!=0)\n",
    "        probs_softmax = x_exp / torch.sum(x_exp, dim=1, keepdim=True)\n",
    "        return probs_softmax\n",
    "        \n",
    "        # x = self.fc1(state)\n",
    "        # x = F.relu(x)\n",
    "        # x = self.fc2(x)\n",
    "        # x = F.relu(x)\n",
    "        # mu = self.mu(x)\n",
    "        # logsigma = self.logsigma(x)\n",
    "        # return mu, logsigma\n",
    "\n",
    "    def sample_normal(self, state, reparameterize=True):\n",
    "        probs = self.forward(state)\n",
    "        probabilities = Categorical(probs)\n",
    "        action = probabilities.sample()\n",
    "        # mu, logsigma = self.forward(state)\n",
    "        # logsigma = T.clamp(logsigma, -20, 2)\n",
    "        # sigma = logsigma.exp()\n",
    "        # probabilities = Normal(mu, sigma)\n",
    "        # transforms = [TanhTransform(cache_size=1)]\n",
    "        # probabilities = TransformedDistribution(probabilities, transforms)\n",
    "        # if reparameterize:\n",
    "        #     action = probabilities.rsample()\n",
    "        # else:\n",
    "        #     action = probabilities.sample()\n",
    "\n",
    "        log_probs = probabilities.log_prob(action).sum(axis=-1, keepdim=True)\n",
    "        log_probs.to(self.device)\n",
    "\n",
    "        return action, log_probs"
   ]
  },
  {
   "cell_type": "code",
   "execution_count": 14,
   "metadata": {},
   "outputs": [],
   "source": [
    "n = 50\n",
    "task_dim = 7\n",
    "ag = 5\n",
    "ag_dim = 8\n",
    "def gen_state():\n",
    "    state = {'nodes': np.random.rand(n, task_dim),\n",
    "             'cost_adjacency': np.random.rand(n, n),\n",
    "             'time_adjacency': np.random.rand(n, n),\n",
    "             'degree_mat': np.random.rand(n, n),\n",
    "             'agent_feats': np.random.rand(ag, ag_dim),\n",
    "             'mask': np.random.choice([0, 1], size=n, p=[.5, .5]),\n",
    "             'agent_index': 2,\n",
    "             'coa_num': 2,\n",
    "             'time_elapsed': np.random.rand()}\n",
    "    return state"
   ]
  },
  {
   "cell_type": "code",
   "execution_count": 15,
   "metadata": {},
   "outputs": [],
   "source": [
    "state = gen_state()\n",
    "actor = ActorNetwork()"
   ]
  },
  {
   "cell_type": "code",
   "execution_count": 16,
   "metadata": {},
   "outputs": [],
   "source": [
    "a, log_prob = actor.sample_normal(state)"
   ]
  },
  {
   "cell_type": "markdown",
   "metadata": {},
   "source": []
  },
  {
   "cell_type": "code",
   "execution_count": 17,
   "metadata": {},
   "outputs": [
    {
     "data": {
      "text/plain": [
       "tensor([20], device='cuda:0')"
      ]
     },
     "execution_count": 17,
     "metadata": {},
     "output_type": "execute_result"
    }
   ],
   "source": [
    "a"
   ]
  },
  {
   "cell_type": "code",
   "execution_count": 18,
   "metadata": {},
   "outputs": [
    {
     "data": {
      "text/plain": [
       "tensor([-3.3344], device='cuda:0', grad_fn=<SumBackward1>)"
      ]
     },
     "execution_count": 18,
     "metadata": {},
     "output_type": "execute_result"
    }
   ],
   "source": [
    "log_prob"
   ]
  },
  {
   "cell_type": "code",
   "execution_count": 7,
   "metadata": {},
   "outputs": [],
   "source": [
    "a = probabilities.rsample()"
   ]
  },
  {
   "cell_type": "code",
   "execution_count": 8,
   "metadata": {},
   "outputs": [
    {
     "data": {
      "text/plain": [
       "tensor([-0.0470])"
      ]
     },
     "execution_count": 8,
     "metadata": {},
     "output_type": "execute_result"
    }
   ],
   "source": [
    "a"
   ]
  },
  {
   "cell_type": "code",
   "execution_count": null,
   "metadata": {},
   "outputs": [],
   "source": []
  }
 ],
 "metadata": {
  "kernelspec": {
   "display_name": "Python 3.8.8 ('base')",
   "language": "python",
   "name": "python3"
  },
  "language_info": {
   "codemirror_mode": {
    "name": "ipython",
    "version": 3
   },
   "file_extension": ".py",
   "mimetype": "text/x-python",
   "name": "python",
   "nbconvert_exporter": "python",
   "pygments_lexer": "ipython3",
   "version": "3.10.14"
  },
  "orig_nbformat": 4,
  "vscode": {
   "interpreter": {
    "hash": "ad2bdc8ecc057115af97d19610ffacc2b4e99fae6737bb82f5d7fb13d2f2c186"
   }
  }
 },
 "nbformat": 4,
 "nbformat_minor": 2
}
